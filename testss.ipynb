{
 "cells": [
  {
   "cell_type": "code",
   "execution_count": 1,
   "metadata": {},
   "outputs": [],
   "source": [
    "import polars as pl\n",
    "import numpy as np"
   ]
  },
  {
   "cell_type": "code",
   "execution_count": 2,
   "metadata": {},
   "outputs": [],
   "source": [
    "#arrays\n",
    "size = 1200\n",
    "atoms = np.random.rand(size,6).astype(np.float32)\n",
    "atoms = atoms*120-60\n",
    "atoms = atoms**2/10 # for test only\n",
    "bonds = np.ones([size,4]).astype(int)\n",
    "angles = np.ones([size,5]).astype(int)\n",
    "dihedrals = np.ones([size,6]).astype(int)\n",
    "\n",
    "#setting their ids\n",
    "atoms[:,0] = np.arange(len(atoms))+1\n",
    "bonds[:,0] = np.arange(len(bonds))+1\n",
    "angles[:,0] = np.arange(len(angles))+1\n",
    "\n",
    "#setting the types\n",
    "#for atoms\n",
    "atoms[:,1] = 1\n",
    "atoms[:100,1] = 2\n",
    "atoms[-100:,1] = 3\n",
    "atoms[:,2] = atoms[:,1]\n",
    "\n",
    "atoms = pl.DataFrame(atoms,schema=['atom-id','atom-type','mol-type','x-coor','y-coor','z-coor'])\n"
   ]
  },
  {
   "cell_type": "code",
   "execution_count": 3,
   "metadata": {},
   "outputs": [
    {
     "data": {
      "text/html": [
       "<div><style>\n",
       ".dataframe > thead > tr,\n",
       ".dataframe > tbody > tr {\n",
       "  text-align: right;\n",
       "  white-space: pre-wrap;\n",
       "}\n",
       "</style>\n",
       "<small>shape: (1_200, 6)</small><table border=\"1\" class=\"dataframe\"><thead><tr><th>atom-id</th><th>atom-type</th><th>mol-type</th><th>x-coor</th><th>y-coor</th><th>z-coor</th></tr><tr><td>f32</td><td>f32</td><td>f32</td><td>f32</td><td>f32</td><td>f32</td></tr></thead><tbody><tr><td>1.0</td><td>2.0</td><td>2.0</td><td>203.917572</td><td>51.201561</td><td>9.517642</td></tr><tr><td>2.0</td><td>2.0</td><td>2.0</td><td>40.796158</td><td>80.291885</td><td>60.634666</td></tr><tr><td>3.0</td><td>2.0</td><td>2.0</td><td>14.616727</td><td>51.160828</td><td>20.496101</td></tr><tr><td>4.0</td><td>2.0</td><td>2.0</td><td>307.700043</td><td>89.303673</td><td>163.642563</td></tr><tr><td>5.0</td><td>2.0</td><td>2.0</td><td>50.776604</td><td>218.618454</td><td>149.413284</td></tr><tr><td>&hellip;</td><td>&hellip;</td><td>&hellip;</td><td>&hellip;</td><td>&hellip;</td><td>&hellip;</td></tr><tr><td>1196.0</td><td>3.0</td><td>3.0</td><td>0.012143</td><td>98.417709</td><td>28.480362</td></tr><tr><td>1197.0</td><td>3.0</td><td>3.0</td><td>150.233597</td><td>195.403488</td><td>55.603558</td></tr><tr><td>1198.0</td><td>3.0</td><td>3.0</td><td>181.223923</td><td>194.616943</td><td>112.580772</td></tr><tr><td>1199.0</td><td>3.0</td><td>3.0</td><td>18.150097</td><td>209.023972</td><td>0.016647</td></tr><tr><td>1200.0</td><td>3.0</td><td>3.0</td><td>239.326935</td><td>110.311035</td><td>28.27692</td></tr></tbody></table></div>"
      ],
      "text/plain": [
       "shape: (1_200, 6)\n",
       "┌─────────┬───────────┬──────────┬────────────┬────────────┬────────────┐\n",
       "│ atom-id ┆ atom-type ┆ mol-type ┆ x-coor     ┆ y-coor     ┆ z-coor     │\n",
       "│ ---     ┆ ---       ┆ ---      ┆ ---        ┆ ---        ┆ ---        │\n",
       "│ f32     ┆ f32       ┆ f32      ┆ f32        ┆ f32        ┆ f32        │\n",
       "╞═════════╪═══════════╪══════════╪════════════╪════════════╪════════════╡\n",
       "│ 1.0     ┆ 2.0       ┆ 2.0      ┆ 203.917572 ┆ 51.201561  ┆ 9.517642   │\n",
       "│ 2.0     ┆ 2.0       ┆ 2.0      ┆ 40.796158  ┆ 80.291885  ┆ 60.634666  │\n",
       "│ 3.0     ┆ 2.0       ┆ 2.0      ┆ 14.616727  ┆ 51.160828  ┆ 20.496101  │\n",
       "│ 4.0     ┆ 2.0       ┆ 2.0      ┆ 307.700043 ┆ 89.303673  ┆ 163.642563 │\n",
       "│ 5.0     ┆ 2.0       ┆ 2.0      ┆ 50.776604  ┆ 218.618454 ┆ 149.413284 │\n",
       "│ …       ┆ …         ┆ …        ┆ …          ┆ …          ┆ …          │\n",
       "│ 1196.0  ┆ 3.0       ┆ 3.0      ┆ 0.012143   ┆ 98.417709  ┆ 28.480362  │\n",
       "│ 1197.0  ┆ 3.0       ┆ 3.0      ┆ 150.233597 ┆ 195.403488 ┆ 55.603558  │\n",
       "│ 1198.0  ┆ 3.0       ┆ 3.0      ┆ 181.223923 ┆ 194.616943 ┆ 112.580772 │\n",
       "│ 1199.0  ┆ 3.0       ┆ 3.0      ┆ 18.150097  ┆ 209.023972 ┆ 0.016647   │\n",
       "│ 1200.0  ┆ 3.0       ┆ 3.0      ┆ 239.326935 ┆ 110.311035 ┆ 28.27692   │\n",
       "└─────────┴───────────┴──────────┴────────────┴────────────┴────────────┘"
      ]
     },
     "execution_count": 3,
     "metadata": {},
     "output_type": "execute_result"
    }
   ],
   "source": [
    "atoms"
   ]
  },
  {
   "cell_type": "code",
   "execution_count": 4,
   "metadata": {},
   "outputs": [
    {
     "data": {
      "text/plain": [
       "array([359.59918, 359.40903, 359.35028], dtype=float32)"
      ]
     },
     "execution_count": 4,
     "metadata": {},
     "output_type": "execute_result"
    }
   ],
   "source": [
    "atoms.select(['x-coor','y-coor','z-coor']).max().to_numpy().flatten()\n"
   ]
  },
  {
   "cell_type": "code",
   "execution_count": 5,
   "metadata": {},
   "outputs": [
    {
     "data": {
      "text/html": [
       "<div><style>\n",
       ".dataframe > thead > tr,\n",
       ".dataframe > tbody > tr {\n",
       "  text-align: right;\n",
       "  white-space: pre-wrap;\n",
       "}\n",
       "</style>\n",
       "<small>shape: (1, 3)</small><table border=\"1\" class=\"dataframe\"><thead><tr><th>x-coor</th><th>y-coor</th><th>z-coor</th></tr><tr><td>f32</td><td>f32</td><td>f32</td></tr></thead><tbody><tr><td>0.00023</td><td>0.000808</td><td>0.000171</td></tr></tbody></table></div>"
      ],
      "text/plain": [
       "shape: (1, 3)\n",
       "┌─────────┬──────────┬──────────┐\n",
       "│ x-coor  ┆ y-coor   ┆ z-coor   │\n",
       "│ ---     ┆ ---      ┆ ---      │\n",
       "│ f32     ┆ f32      ┆ f32      │\n",
       "╞═════════╪══════════╪══════════╡\n",
       "│ 0.00023 ┆ 0.000808 ┆ 0.000171 │\n",
       "└─────────┴──────────┴──────────┘"
      ]
     },
     "execution_count": 5,
     "metadata": {},
     "output_type": "execute_result"
    }
   ],
   "source": [
    "atoms.select(['x-coor','y-coor','z-coor']).min()"
   ]
  },
  {
   "cell_type": "code",
   "execution_count": 6,
   "metadata": {},
   "outputs": [],
   "source": [
    "maxes = atoms.select(['x-coor','y-coor','z-coor']).max().to_numpy().flatten()"
   ]
  },
  {
   "cell_type": "code",
   "execution_count": 7,
   "metadata": {},
   "outputs": [],
   "source": [
    "x,y,z = maxes"
   ]
  },
  {
   "cell_type": "code",
   "execution_count": 11,
   "metadata": {},
   "outputs": [
    {
     "data": {
      "text/plain": [
       "(1200, 6)"
      ]
     },
     "execution_count": 11,
     "metadata": {},
     "output_type": "execute_result"
    }
   ],
   "source": [
    "atoms.to_numpy().shape"
   ]
  },
  {
   "cell_type": "code",
   "execution_count": null,
   "metadata": {},
   "outputs": [],
   "source": []
  }
 ],
 "metadata": {
  "kernelspec": {
   "display_name": ".venv",
   "language": "python",
   "name": "python3"
  },
  "language_info": {
   "codemirror_mode": {
    "name": "ipython",
    "version": 3
   },
   "file_extension": ".py",
   "mimetype": "text/x-python",
   "name": "python",
   "nbconvert_exporter": "python",
   "pygments_lexer": "ipython3",
   "version": "3.11.9"
  }
 },
 "nbformat": 4,
 "nbformat_minor": 2
}
