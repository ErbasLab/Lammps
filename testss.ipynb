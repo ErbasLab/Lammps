{
 "cells": [
  {
   "cell_type": "code",
   "execution_count": 1,
   "metadata": {},
   "outputs": [],
   "source": [
    "import polars as pl\n",
    "import numpy as np"
   ]
  },
  {
   "cell_type": "code",
   "execution_count": null,
   "metadata": {},
   "outputs": [],
   "source": [
    "#arrays\n",
    "atoms = np.random.rand(size,6).astype(np.float32)\n",
    "atoms = atoms*120-60\n",
    "atoms = atoms**2/10 # for test only\n",
    "bonds = np.ones([size,4]).astype(int)\n",
    "angles = np.ones([size,5]).astype(int)\n",
    "dihedrals = np.ones([size,6]).astype(int)\n",
    "\n",
    "#setting their ids\n",
    "atoms[:,0] = np.arange(len(atoms))+1\n",
    "bonds[:,0] = np.arange(len(bonds))+1\n",
    "angles[:,0] = np.arange(len(angles))+1\n",
    "\n",
    "#setting the types\n",
    "#for atoms\n",
    "atoms[:,1] = 1\n",
    "atoms[:100,1] = 2\n",
    "atoms[-100:,1] = 3\n",
    "atoms[:,2] = atoms[:,1]\n",
    "\n",
    "atoms = pl.DataFrame(atoms,schema=['atom-id','atom-type','mol-type','x-coor','y-coor','z-coor'])\n"
   ]
  }
 ],
 "metadata": {
  "kernelspec": {
   "display_name": ".venv",
   "language": "python",
   "name": "python3"
  },
  "language_info": {
   "codemirror_mode": {
    "name": "ipython",
    "version": 3
   },
   "file_extension": ".py",
   "mimetype": "text/x-python",
   "name": "python",
   "nbconvert_exporter": "python",
   "pygments_lexer": "ipython3",
   "version": "3.11.9"
  }
 },
 "nbformat": 4,
 "nbformat_minor": 2
}
