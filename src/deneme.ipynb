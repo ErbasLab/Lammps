{
 "cells": [
  {
   "cell_type": "code",
   "execution_count": 7,
   "metadata": {},
   "outputs": [],
   "source": [
    "import datafile as dd\n",
    "from datafile import DataFile"
   ]
  },
  {
   "cell_type": "code",
   "execution_count": 18,
   "metadata": {},
   "outputs": [],
   "source": [
    "atoms,bonds,angles,dihedrals = dd.make_up_arrays(size=200000)"
   ]
  },
  {
   "cell_type": "code",
   "execution_count": 19,
   "metadata": {},
   "outputs": [
    {
     "name": "stdout",
     "output_type": "stream",
     "text": [
      "\u001b[91mDataFile\u001b[0m Object\n",
      "\u001b[94mLAMMPS Data file -- Created in:07/11/24\n",
      "\n",
      "200000 atoms\n",
      "3 atom types\n",
      "200000 bonds\n",
      "3 bond types\n",
      "200000 angles\n",
      "3 angle types\n",
      "200000 dihedrals\n",
      "3 dihedral types\n",
      "\u001b[0m\n"
     ]
    }
   ],
   "source": [
    "datafile = DataFile(atoms,\n",
    "                    bonds,\n",
    "                    angles,\n",
    "                    dihedrals,\n",
    "                    atoms_style='angle',\n",
    "                    min_boundaries=True,)\n",
    "print(datafile)\n"
   ]
  },
  {
   "cell_type": "code",
   "execution_count": null,
   "metadata": {},
   "outputs": [],
   "source": []
  }
 ],
 "metadata": {
  "kernelspec": {
   "display_name": ".venv",
   "language": "python",
   "name": "python3"
  },
  "language_info": {
   "codemirror_mode": {
    "name": "ipython",
    "version": 3
   },
   "file_extension": ".py",
   "mimetype": "text/x-python",
   "name": "python",
   "nbconvert_exporter": "python",
   "pygments_lexer": "ipython3",
   "version": "3.11.9"
  }
 },
 "nbformat": 4,
 "nbformat_minor": 2
}
